{
 "cells": [
  {
   "cell_type": "code",
   "execution_count": null,
   "id": "7646b050-9940-45a7-bca5-5c6113790021",
   "metadata": {},
   "outputs": [],
   "source": [
    "## https://www.kaggle.com/datasets/shubhambathwal/flight-price-prediction"
   ]
  },
  {
   "cell_type": "markdown",
   "id": "55f90b44-10b8-4dab-b032-e97fa972b904",
   "metadata": {},
   "source": [
    "<img src=\"https://i.postimg.cc/ydZcb9cY/Hello.jpg\">"
   ]
  },
  {
   "cell_type": "markdown",
   "id": "efd2706e-c275-4f1e-8f4e-6356382f6112",
   "metadata": {},
   "source": [
    "<img src=\"https://i.postimg.cc/W4208kV2/inkpx-word-art-1.jpg\">"
   ]
  },
  {
   "cell_type": "markdown",
   "id": "d176d988-d9be-4b48-96ed-20b2dc1e9989",
   "metadata": {},
   "source": [
    "<img src='https://i.postimg.cc/3wzWvF4d/3101522.jpg'>"
   ]
  },
  {
   "cell_type": "markdown",
   "id": "6c4d76de-df88-4810-90f0-fdc835ab895b",
   "metadata": {},
   "source": [
    "<div style=\"border:4px solid navy; border-radius:30px; padding: 15px; background-size: cover\">\n",
    "<p><h2 style=\"color:navy; font-size:250%\"><b>INTRODUCTION</b></h2></p>\n",
    "\n",
    "<p><h5 style=\"font-size:130%; font-family:Arial \">The objective of the study is to analyse the flight booking dataset obtained from “Ease My Trip” website and to conduct various statistical hypothesis tests in order to get meaningful information from it. The 'Linear Regression' statistical algorithm would be used to train the dataset and predict a continuous target variable. 'Easemytrip' is an internet platform for booking flight tickets, and hence a platform that potential passengers use to buy tickets. A thorough study of the data will aid in the discovery of valuable insights that will be of enormous value to passengers.</h5></p>"
   ]
  },
  {
   "cell_type": "markdown",
   "id": "89564c25-ba61-4e94-aff3-1f562cc91e24",
   "metadata": {},
   "source": [
    "# <b><p style=\"background-image: url(https://i.postimg.cc/MpTLFhtf/wp9806504-network-desktop-wallpapers.jpg);background-size: cover;font-family:tahoma;font-size:120%;color:white;text-align:center;border-radius:15px 50px; padding:7px; border:solid 2px #09375b; box-shadow: 10px 10px 10px #042b4c\">Table Of Content</p></b>"
   ]
  },
  {
   "cell_type": "markdown",
   "id": "1b108c2e-0f1c-40bd-a82c-0dcf2c6b06c2",
   "metadata": {},
   "source": [
    "<a id=\"content\"></a>    \n",
    "<div style=\"border-radius:20px; padding: 15px; font-size:110%; text-align:left; background-image: url(https://i.postimg.cc/sXwGWcwC/download.jpg); background-size: cover\">\n",
    "\n",
    "<h2><span style=\"text-align:center; font-weight:bolder; color:navy; font-size:130%\">Table of Contents:</span></h2>\n",
    "\n",
    " * **[Step 1 | Python Libraries](#setup)**\n",
    "    -  [1.1 | Import Libraries](#import)\n",
    "    -  [1.2 | Library configurations](#config)\n",
    " *  **[Step 2 | Data](#data)**\n",
    "    -  [2.1 | Importing Data](#load_data)\n",
    "    -  [2.2 | Data Informations](#info)\n",
    "    -  [2.3 | Features](#features)\n",
    " *  **[Step 3 | visualizations](#visualizations)**\n",
    "    -  [3.1 | Plots](#plots)\n",
    " *  **[Step 4 | Preprocessing](#prep)**\n",
    "    -  [4.1 | Value](#value)\n",
    "    -  [4.2 | Correlations](#corr)\n",
    "    -  [4.3 | Define X ,y](#xy)\n",
    "    -  [4.4 | Normalization](#norm)\n",
    " *  **[Step 5 | Modeling](#ml)**\n",
    "    -  [5.1 | LinearRegression](#lr)\n",
    "    -  [5.2 | DecisionTreeRegressor](#tree)\n",
    "    -  [5.3 | RandomForestRegressor](#rf)\n",
    "    -  [5.6 | Result](#result)\n",
    " *  **[Author](#author)**"
   ]
  },
  {
   "cell_type": "markdown",
   "id": "4245b164-94d8-495b-9bfd-5d8d668c86dd",
   "metadata": {},
   "source": [
    "<a id=\"setup\"></a>\n",
    "# <b><p style=\"background-image: url(https://i.postimg.cc/MpTLFhtf/wp9806504-network-desktop-wallpapers.jpg);background-size: cover;font-family:tahoma;font-size:120%;color:white;text-align:center;border-radius:15px 50px; padding:7px; border:solid 2px #09375b; box-shadow: 10px 10px 10px #042b4c\">Step 1 | Python Libraries</p></b>\n",
    "\n",
    "[🏠 Tabel of Contents](#content)"
   ]
  },
  {
   "cell_type": "markdown",
   "id": "4f392565-9c7c-4e89-b7c9-e6bc832eb9e0",
   "metadata": {},
   "source": [
    "<a id=\"import\"></a>\n",
    "## <b><span style=\"color:navy\">✈️ Step 1.1 | </span><span style=\"color:red\">Import Libraries</span></b>"
   ]
  },
  {
   "cell_type": "code",
   "execution_count": null,
   "id": "350b5276-29ad-4967-a4d2-40241356e432",
   "metadata": {},
   "outputs": [],
   "source": [
    "import pandas as pd\n",
    "import numpy as np\n",
    "import matplotlib.pyplot as plt\n",
    "import seaborn as sns\n",
    "from termcolor import colored\n",
    "import warnings\n",
    "\n",
    "from sklearn.preprocessing import MinMaxScaler\n",
    "from sklearn.linear_model import LinearRegression\n",
    "from sklearn.tree import DecisionTreeRegressor\n",
    "from sklearn.ensemble import RandomForestRegressor\n",
    "from sklearn import metrics\n",
    "from sklearn.model_selection import train_test_split, GridSearchCV\n",
    "\n",
    "print(colored('\\nAll libraries imported succesfully', 'green'))"
   ]
  },
  {
   "cell_type": "markdown",
   "id": "bd7dbda0-d56a-4514-94dd-6035e5f4a7a9",
   "metadata": {},
   "source": [
    "<a id=\"config\"></a>\n",
    "## <b><span style=\"color:navy\">✈️ Step 1.2 | </span><span style=\"color:red\">Library configurations</span></b>"
   ]
  },
  {
   "cell_type": "code",
   "execution_count": null,
   "id": "8e510ee5-f270-46cd-942e-9ebf1980154a",
   "metadata": {},
   "outputs": [],
   "source": [
    "pd.options.mode.copy_on_write = True # Allow re-write on variable\n",
    "sns.set_style('darkgrid') # Seaborn style\n",
    "warnings.filterwarnings('ignore') # Ignore warnings\n",
    "pd.set_option('display.max_columns', None) # Setting this option will print all collumns of a dataframe\n",
    "pd.set_option('display.max_colwidth', None) # Setting this option will print all of the data in a feature"
   ]
  },
  {
   "cell_type": "code",
   "execution_count": null,
   "id": "b64e5818-ac99-484e-aea8-4ac786666365",
   "metadata": {},
   "outputs": [],
   "source": [
    "print(colored('\\nAll libraries Configed succesfully.', 'green'))"
   ]
  },
  {
   "cell_type": "markdown",
   "id": "655a202c-ee52-4ad1-9b77-bc6a15330a7a",
   "metadata": {},
   "source": [
    "<a id=\"data\"></a>\n",
    "# <b><p style=\"background-image: url(https://i.postimg.cc/MpTLFhtf/wp9806504-network-desktop-wallpapers.jpg);background-size: cover;font-family:tahoma;font-size:120%;color:white;text-align:center;border-radius:15px 50px; padding:7px; border:solid 2px #09375b; box-shadow: 10px 10px 10px #042b4c\">Step 2 | Data</p></b>\n",
    "\n",
    "[🏠 Tabel of Contents](#content)"
   ]
  },
  {
   "cell_type": "markdown",
   "id": "efdee410-5da3-4403-9594-b126922e94e3",
   "metadata": {},
   "source": [
    "<a id=\"load_data\"></a>\n",
    "## <b><span style=\"color:navy\">✈️ Step 2.1 | </span><span style=\"color:red\">Importing Data</span></b>"
   ]
  },
  {
   "cell_type": "code",
   "execution_count": null,
   "id": "31d7c32b-dcde-4158-8c70-033f45a8392d",
   "metadata": {},
   "outputs": [],
   "source": [
    "data = pd.read_csv('Clean_Dataset.csv')\n",
    "data.head()"
   ]
  },
  {
   "cell_type": "markdown",
   "id": "02128652-2720-4f29-8ef0-8806d449af77",
   "metadata": {},
   "source": [
    "<a id=\"info\"></a>\n",
    "## <b><span style=\"color:navy\">✈️ Step 2.2 | </span><span style=\"color:red\">Data Informations</span></b>"
   ]
  },
  {
   "cell_type": "code",
   "execution_count": null,
   "id": "2688cc18-4e54-4905-8f2b-8f7409072676",
   "metadata": {},
   "outputs": [],
   "source": [
    "data.info()"
   ]
  },
  {
   "cell_type": "code",
   "execution_count": null,
   "id": "408713c5-3d59-4265-b2e5-247833d3ca34",
   "metadata": {},
   "outputs": [],
   "source": [
    "data.isna().sum()"
   ]
  },
  {
   "cell_type": "markdown",
   "id": "b9012c65-6b0e-40e4-9025-e440343ff13f",
   "metadata": {
    "jp-MarkdownHeadingCollapsed": true
   },
   "source": [
    "<div style=\"font-size:110%; font-weight:500; background-color:#d3def0\">➡️ There is no null value.</div>"
   ]
  },
  {
   "cell_type": "markdown",
   "id": "85fe6a94-e7db-4a33-8254-e4c7b061f831",
   "metadata": {},
   "source": [
    "<div style=\"font-size:110%; font-weight:500; background-color:#d3def0\">➡️ Drop <code>unnamed: 0</code> column.</div>"
   ]
  },
  {
   "cell_type": "code",
   "execution_count": null,
   "id": "23ec957a-7a2c-433a-9b81-16e83d1a9113",
   "metadata": {},
   "outputs": [],
   "source": [
    "data.drop(columns='Unnamed: 0', inplace=True)"
   ]
  },
  {
   "cell_type": "markdown",
   "id": "dd22841e-59f3-471b-bd86-bed3e0df4909",
   "metadata": {},
   "source": [
    "<div style=\"font-size:110%; font-weight:500; background-color:#d3def0\">➡️ Rename class name to flight_class, Because class is python reserved name.</div>"
   ]
  },
  {
   "cell_type": "code",
   "execution_count": null,
   "id": "06851402-d210-4da4-bea5-6313c01849fa",
   "metadata": {},
   "outputs": [],
   "source": [
    "data.rename(columns={'class': 'flight_class'}, inplace=True)"
   ]
  },
  {
   "cell_type": "markdown",
   "id": "9d11721d-4eac-4f3c-8540-3ff9502ea901",
   "metadata": {},
   "source": [
    "<a id=\"features\"></a>\n",
    "## <b><span style=\"color:navy\">✈️ Step 2.3 | </span><span style=\"color:red\">Features</span></b>"
   ]
  },
  {
   "cell_type": "markdown",
   "id": "620914f6-588d-4903-a762-44d8dcf868c2",
   "metadata": {},
   "source": [
    "<div style=\"border:3px solid navy; border-radius:30px; padding: 15px; background-size: cover\">\n",
    "<p><h2 style=\"color:navy; font-size:250%\"><b>FEATURES</b></h2></p>\n",
    "\n",
    "\n",
    "<p><h5 style=\"font-size:130%; font-family:Arial \">The various features of the cleaned dataset are explained below:\n",
    "    \n",
    "<h4><b>1) Airline: </b></h4>\n",
    "<p><h5 style=\"font-size:110%; font-family:Arial \">The name of the airline company is stored in the airline column. It is a categorical feature having 6 different airlines.</h5></p>\n",
    "<h4><b>2) Flight: </b></h4>\n",
    "<p><h5 style=\"font-size:110%; font-family:Arial \">Flight stores information regarding the plane's flight code. It is a categorical feature.</h5></p>\n",
    "<h4><b>3) Source City: </b></h4>\n",
    "<p><h5 style=\"font-size:110%; font-family:Arial \">City from which the flight takes off. It is a categorical feature having 6 unique cities.</h5></p>\n",
    "<h4><b>4) Departure Time: </b></h4>\n",
    "<p><h5 style=\"font-size:110%; font-family:Arial \">This is a derived categorical feature obtained created by grouping time periods into bins. It stores information about the departure time and have 6 unique time labels.</h5></p>\n",
    "<h4><b>5) Stops: </b></h4>\n",
    "<p><h5 style=\"font-size:110%; font-family:Arial \">A categorical feature with 3 distinct values that stores the number of stops between the source and destination cities.</h5></p>\n",
    "<h4><b>6) Arrival Time: </b></h4>\n",
    "<p><h5 style=\"font-size:110%; font-family:Arial \">This is a derived categorical feature created by grouping time intervals into bins. It has six distinct time labels and keeps information about the arrival time.</h5></p>\n",
    "<h4><b>7) Destination City: </b></h4>\n",
    "<p><h5 style=\"font-size:110%; font-family:Arial \">City where the flight will land. It is a categorical feature having 6 unique cities.</h5></p>\n",
    "<h4><b>8) Class: </b></h4>\n",
    "<p><h5 style=\"font-size:110%; font-family:Arial \">A categorical feature that contains information on seat class; it has two distinct values: Business and Economy.</h5></p>\n",
    "<h4><b>9) Duration: </b></h4>\n",
    "<p><h5 style=\"font-size:110%; font-family:Arial \">A continuous feature that displays the overall amount of time it takes to travel between cities in hours.</h5></p>\n",
    "<h4><b>10)Days Left: </b></h4>\n",
    "<p><h5 style=\"font-size:110%; font-family:Arial \">This is a derived characteristic that is calculated by subtracting the trip date by the booking date.</h5></p>\n",
    "<h4><b>11) Price: </b></h4>\n",
    "<p><h5 style=\"font-size:110%; font-family:Arial \">Target variable stores information of the ticket price.</h5></p>"
   ]
  },
  {
   "cell_type": "markdown",
   "id": "8ead7f62-e520-4907-8c16-ce188174dd07",
   "metadata": {},
   "source": [
    "<a id=\"visualizations\"></a>\n",
    "# <b><p style=\"background-image: url(https://i.postimg.cc/MpTLFhtf/wp9806504-network-desktop-wallpapers.jpg);background-size: cover;font-family:tahoma;font-size:120%;color:white;text-align:center;border-radius:15px 50px; padding:7px; border:solid 2px #09375b; box-shadow: 10px 10px 10px #042b4c\">Step 3 | visualizations</p></b>\n",
    "\n",
    "[🏠 Tabel of Contents](#content)"
   ]
  },
  {
   "cell_type": "markdown",
   "id": "73dbfd29-62e2-4cca-a88f-5d6713183b0d",
   "metadata": {},
   "source": [
    "<a id=\"plots\"></a>\n",
    "## <b><span style=\"color:navy\">✈️ Step 3.1 | </span><span style=\"color:red\">Plots</span></b>"
   ]
  },
  {
   "cell_type": "code",
   "execution_count": null,
   "id": "da4a4443-81fb-4c02-872b-fd257b57bdd8",
   "metadata": {},
   "outputs": [],
   "source": [
    "# Print all columns and their indexes.\n",
    "for index, value in enumerate(data.columns) :\n",
    "    print(index, \":\", value)"
   ]
  },
  {
   "cell_type": "markdown",
   "id": "5e849b5b-45e2-4b3c-af75-73b487a05e86",
   "metadata": {},
   "source": [
    "### <code>airline</code>"
   ]
  },
  {
   "cell_type": "code",
   "execution_count": null,
   "id": "44ef2cba-b260-4893-bc55-eaa0f2660b90",
   "metadata": {},
   "outputs": [],
   "source": [
    "data.airline.value_counts()"
   ]
  },
  {
   "cell_type": "code",
   "execution_count": null,
   "id": "09fcadcd-599e-4ae6-80cc-fe171c390f5a",
   "metadata": {},
   "outputs": [],
   "source": [
    "fig, ax = plt.subplots(2, 1, figsize=(10, 8))\n",
    "fig.suptitle('Air Line', fontsize=20, fontweight='bold')\n",
    "plt.tight_layout()\n",
    "# Top ax\n",
    "labels = data.airline.value_counts().index.tolist()\n",
    "explode = (0, 0, 0, 0, 0, 0.3)\n",
    "ax[0].pie(data.airline.value_counts(), autopct='%.f%%', labels=labels, shadow=True, pctdistance=1.15, labeldistance=0.6, explode=explode)\n",
    "ax[0].legend(bbox_to_anchor=(1, 1), loc=2, borderaxespad=5)\n",
    "\n",
    "# Bottom ax\n",
    "sns.boxplot(x='airline', y='price', data=data, ax=ax[1])\n",
    "\n",
    "plt.show()"
   ]
  },
  {
   "cell_type": "markdown",
   "id": "2fb6a114-de97-430b-b9a0-ec0ab38e279f",
   "metadata": {},
   "source": [
    " - Most used airline is <code>Vistara</code> (43% of all flights, 127859 flights)\n",
    " - Second place is <code>Air_India</code> (27% of all flights, 80892 flights)\n",
    " - Less used airline is <code>SpiceJet</code> (3% of all flights, 9011 flights)"
   ]
  },
  {
   "cell_type": "markdown",
   "id": "12b67d5d-7abf-4b26-83ed-88269f97b933",
   "metadata": {},
   "source": [
    "### <code>flight</code>"
   ]
  },
  {
   "cell_type": "code",
   "execution_count": null,
   "id": "77c72ad8-94fc-4d5a-b7bc-0e130f54713f",
   "metadata": {},
   "outputs": [],
   "source": [
    "len(data.flight.value_counts())"
   ]
  },
  {
   "cell_type": "markdown",
   "id": "be6a2cad-6e4c-41b8-b0dd-1f000f3824d2",
   "metadata": {},
   "source": [
    "<div style=\"font-size:110%; font-weight:500; background-color:#d3def0\">➡️ Becase of larg values of unique values,  i can not plot this column.</div>"
   ]
  },
  {
   "cell_type": "markdown",
   "id": "2e57b80b-e7d8-4899-9434-7c1bd8052d0e",
   "metadata": {},
   "source": [
    "<div style=\"font-size:110%; font-weight:500; background-color:#d3def0\">➡️ Flight name is like a ID, so its not nessasary for modeling and will drop from dataframe.</div>"
   ]
  },
  {
   "cell_type": "code",
   "execution_count": null,
   "id": "2e0ce0ec-f20e-47e6-b73c-8bc549d3922a",
   "metadata": {},
   "outputs": [],
   "source": [
    "data.drop(columns='flight', inplace=True)"
   ]
  },
  {
   "cell_type": "markdown",
   "id": "4e87d8b8-2288-4f8b-ac5e-eba022c291da",
   "metadata": {},
   "source": [
    "### <code>source_city</code>"
   ]
  },
  {
   "cell_type": "code",
   "execution_count": null,
   "id": "f7ce34db-68b3-4b7c-85ea-09cdfba39218",
   "metadata": {},
   "outputs": [],
   "source": [
    "data.source_city.value_counts()"
   ]
  },
  {
   "cell_type": "code",
   "execution_count": null,
   "id": "05bbc1e6-b686-478d-9d0d-aa9c50a2c422",
   "metadata": {},
   "outputs": [],
   "source": [
    "fig, ax = plt.subplots(2, 1, figsize=(10, 8))\n",
    "fig.suptitle('source city', fontsize=20, fontweight='bold')\n",
    "plt.tight_layout()\n",
    "# Top ax\n",
    "labels = data.source_city.value_counts().index.tolist()\n",
    "explode = (0, 0, 0, 0, 0, 0.3)\n",
    "ax[0].pie(data.source_city.value_counts(), autopct='%.f%%', labels=labels, shadow=True, pctdistance=1.2, labeldistance=0.4, explode=explode)\n",
    "ax[0].legend(bbox_to_anchor=(1, 1), loc=2, borderaxespad=5)\n",
    "\n",
    "# Bottom ax\n",
    "sns.boxplot(x='source_city', y='price', data=data, ax=ax[1])\n",
    "plt.show()"
   ]
  },
  {
   "cell_type": "markdown",
   "id": "08599b1f-7a6e-4b71-99cd-206c8d8c3a66",
   "metadata": {},
   "source": [
    "Almost number of all flights source is equal."
   ]
  },
  {
   "cell_type": "markdown",
   "id": "67a96b7b-2143-4657-92ad-6e5e0a739036",
   "metadata": {},
   "source": [
    "### <code>departure_time</code>"
   ]
  },
  {
   "cell_type": "code",
   "execution_count": null,
   "id": "1399cb4c-92fa-46ee-8939-fc2c9a9e268c",
   "metadata": {},
   "outputs": [],
   "source": [
    "data.departure_time.value_counts()"
   ]
  },
  {
   "cell_type": "code",
   "execution_count": null,
   "id": "b653d8cb-4986-4b36-98c6-a197cdcc8e63",
   "metadata": {},
   "outputs": [],
   "source": [
    "fig, ax = plt.subplots(2, 1, figsize=(10, 8))\n",
    "fig.suptitle('departure time', fontsize=20, fontweight='bold')\n",
    "plt.tight_layout()\n",
    "# Top ax\n",
    "labels = data.departure_time.value_counts().index.tolist()\n",
    "explode = (0, 0, 0, 0, 0, 0.3)\n",
    "ax[0].pie(data.departure_time.value_counts(), autopct='%.f%%', labels=labels, shadow=True, pctdistance=1.2, labeldistance=0.4, explode=explode)\n",
    "ax[0].legend(bbox_to_anchor=(1, 1), loc=2, borderaxespad=5)\n",
    "\n",
    "# Bottom ax\n",
    "sns.boxplot(x='departure_time', y='price', data=data, ax=ax[1])\n",
    "plt.show()"
   ]
  },
  {
   "cell_type": "markdown",
   "id": "aa2dbce6-7a4c-44cd-a338-9b62864ad33d",
   "metadata": {},
   "source": [
    "Except at the end of <code>Late_Night</code>, the frequency of the rest of the departure_time is almost equal."
   ]
  },
  {
   "cell_type": "markdown",
   "id": "5c90a841-e52c-46cf-a237-7cc52b6961b5",
   "metadata": {},
   "source": [
    "### <code>stops</code>"
   ]
  },
  {
   "cell_type": "code",
   "execution_count": null,
   "id": "87525bcf-855b-455d-9b08-19e675ce4553",
   "metadata": {},
   "outputs": [],
   "source": [
    "data.stops.value_counts()"
   ]
  },
  {
   "cell_type": "code",
   "execution_count": null,
   "id": "71af8463-3351-4b0c-8418-a61cc86e5ded",
   "metadata": {},
   "outputs": [],
   "source": [
    "fig, ax = plt.subplots(2, 1, figsize=(10, 10))\n",
    "fig.suptitle('stops', fontsize=20, fontweight='bold')\n",
    "plt.tight_layout()\n",
    "# Top ax\n",
    "labels = data.stops.value_counts().index.tolist()\n",
    "explode = (0, 0, 0.3)\n",
    "ax[0].pie(data.stops.value_counts(), autopct='%.f%%', labels=labels, shadow=True, pctdistance=1.2, labeldistance=0.4, explode=explode)\n",
    "ax[0].legend(bbox_to_anchor=(1, 1), loc=2, borderaxespad=5)\n",
    "\n",
    "# Bottom ax\n",
    "sns.boxplot(x='stops', y='price', data=data, ax=ax[1])\n",
    "plt.show()"
   ]
  },
  {
   "cell_type": "markdown",
   "id": "3af67a8c-bee6-4ca8-ac19-d1ba42339511",
   "metadata": {},
   "source": [
    " - Most of the flights have 1 stop (about 84% , 250863 flights).\n",
    " - Just 4% of flights have 2 or more than 2 stops during their flights.\n",
    " - About 12% of flights have not any stop.(13286 flights)"
   ]
  },
  {
   "cell_type": "markdown",
   "id": "a29a4e99-33d9-46e2-a10a-46cdae93d917",
   "metadata": {},
   "source": [
    "### <code>arrival_time</code>"
   ]
  },
  {
   "cell_type": "code",
   "execution_count": null,
   "id": "de117065-e4b2-4e42-afe9-38ff445b5e08",
   "metadata": {},
   "outputs": [],
   "source": [
    "data.arrival_time.value_counts()"
   ]
  },
  {
   "cell_type": "code",
   "execution_count": null,
   "id": "dc86c76e-8104-4e85-a1f3-a4fd40673672",
   "metadata": {},
   "outputs": [],
   "source": [
    "fig, ax = plt.subplots(2, 1, figsize=(10, 8))\n",
    "fig.suptitle('arrival time', fontsize=20, fontweight='bold')\n",
    "# Top ax\n",
    "labels = data.arrival_time.value_counts().index.tolist()\n",
    "explode = (0, 0, 0, 0, 0, 0.3)\n",
    "ax[0].pie(data.arrival_time.value_counts(), autopct='%.f%%', labels=labels, shadow=True, pctdistance=1.2, labeldistance=0.4, explode=explode)\n",
    "ax[0].legend(bbox_to_anchor=(1, 1), loc=2, borderaxespad=5)\n",
    "\n",
    "# Bottom ax\n",
    "sns.boxplot(x='arrival_time', y='price', data=data, ax=ax[1])\n",
    "plt.show()"
   ]
  },
  {
   "cell_type": "markdown",
   "id": "9cc284e8-3e3b-4b5f-bddb-8f4cf3b5dc4d",
   "metadata": {},
   "source": [
    "### <code>destination_city</code>"
   ]
  },
  {
   "cell_type": "code",
   "execution_count": null,
   "id": "4db71eba-736f-47bd-a965-fb45d1dee280",
   "metadata": {},
   "outputs": [],
   "source": [
    "data.destination_city.value_counts()"
   ]
  },
  {
   "cell_type": "code",
   "execution_count": null,
   "id": "2c38a364-7b4e-44af-831e-eed438b05e45",
   "metadata": {},
   "outputs": [],
   "source": [
    "fig, ax = plt.subplots(2, 1, figsize=(10, 8))\n",
    "fig.suptitle('destination city', fontsize=20, fontweight='bold')\n",
    "plt.tight_layout()\n",
    "# Top ax\n",
    "labels = data.destination_city.value_counts().index.tolist()\n",
    "explode = (0, 0, 0, 0, 0, 0.3)\n",
    "ax[0].pie(data.destination_city.value_counts(), autopct='%.f%%', labels=labels, shadow=True, pctdistance=1.2, labeldistance=0.4, explode=explode)\n",
    "ax[0].legend(bbox_to_anchor=(1, 1), loc=2, borderaxespad=5)\n",
    "\n",
    "# Bottom ax\n",
    "sns.boxplot(x='destination_city', y='price', data=data, ax=ax[1])\n",
    "plt.show()"
   ]
  },
  {
   "cell_type": "markdown",
   "id": "2ef7c352-735d-4df0-b87b-b69faeed6e42",
   "metadata": {},
   "source": [
    "### <code>flight_class</code>"
   ]
  },
  {
   "cell_type": "code",
   "execution_count": null,
   "id": "9ae43bf2-a29e-4af6-8516-c3a47b2d520d",
   "metadata": {},
   "outputs": [],
   "source": [
    "data.flight_class.value_counts()"
   ]
  },
  {
   "cell_type": "code",
   "execution_count": null,
   "id": "27afb74b-01f3-4d43-9ac7-609cf61034c1",
   "metadata": {},
   "outputs": [],
   "source": [
    "fig, ax = plt.subplots(2, 1, figsize=(10, 8))\n",
    "fig.suptitle('flight class', fontsize=20, fontweight='bold')\n",
    "plt.tight_layout()\n",
    "# Top ax\n",
    "labels = data.flight_class.value_counts().index.tolist()\n",
    "# explode = (0, 0, 0, 0, 0, 0.3)\n",
    "ax[0].pie(data.flight_class.value_counts(), autopct='%.f%%', labels=labels, shadow=True, pctdistance=1.2, labeldistance=0.4)\n",
    "ax[0].legend(bbox_to_anchor=(1, 1), loc=2, borderaxespad=5)\n",
    "\n",
    "# Bottom ax\n",
    "sns.boxplot(x='flight_class', y='price', data=data, ax=ax[1]).set_yticks(np.arange(0, 130000, 10000))\n",
    "plt.show()"
   ]
  },
  {
   "cell_type": "markdown",
   "id": "6f1dacca-5707-4774-9a2b-50db1a9747e2",
   "metadata": {},
   "source": [
    " - Abviously <code>Business</code> classes are more expesive than <code>Economie</code> .\n",
    " - Most of flights are <code>Economy</code> (about 69%)."
   ]
  },
  {
   "cell_type": "markdown",
   "id": "076a38e7-e2de-4a1a-ae81-d37789c0bc26",
   "metadata": {},
   "source": [
    "### <code>duration</code>"
   ]
  },
  {
   "cell_type": "code",
   "execution_count": null,
   "id": "b975286a-e9dc-426c-8df2-4ebc06323ee0",
   "metadata": {},
   "outputs": [],
   "source": [
    "len(data.duration.value_counts())"
   ]
  },
  {
   "cell_type": "code",
   "execution_count": null,
   "id": "31458a01-c73a-4e24-bf48-0c3c806f9f56",
   "metadata": {},
   "outputs": [],
   "source": [
    "fig, ax = plt.subplots(1, 2, figsize=(15, 5))\n",
    "plt.tight_layout()\n",
    "# Left ax\n",
    "sns.lineplot(x='duration', y='price', data=data, ax=ax[0], hue='flight_class').set_xticks(np.arange(0, 50, 5))\n",
    "# Right AX\n",
    "sns.boxplot(data=data, x='duration', ax=ax[1])\n",
    "plt.show()"
   ]
  },
  {
   "cell_type": "markdown",
   "id": "24cb77f0-b760-4133-af8a-57571d3f1acd",
   "metadata": {},
   "source": [
    " - In <code>Business class</code>, from 1 to 5 hours, price growth sharply.\n",
    " - In <code>Business class</code> for durations more than 5, Price in a channel between 45000 to 60000.\n",
    " - In <code>Economy class</code> growth of price have a linear growth and for duration=47 have a sharp raise in pricess."
   ]
  },
  {
   "cell_type": "markdown",
   "id": "7e6a351f-5749-4a50-b510-f8707889fa49",
   "metadata": {},
   "source": [
    "### <code>days_left</code>"
   ]
  },
  {
   "cell_type": "code",
   "execution_count": null,
   "id": "ccac0098-67b5-46f0-b55d-a945dfee7074",
   "metadata": {},
   "outputs": [],
   "source": [
    "len(data.days_left.value_counts())"
   ]
  },
  {
   "cell_type": "code",
   "execution_count": null,
   "id": "ccbe4d7c-7f5c-4242-b65e-21cbd1bc87e6",
   "metadata": {},
   "outputs": [],
   "source": [
    "fig, ax = plt.subplots(1, 2, figsize=(15, 5))\n",
    "plt.tight_layout()\n",
    "# Left ax\n",
    "sns.lineplot(x='days_left', y='price', data=data, ax=ax[0]).set_xticks(np.arange(0, 50, 5))\n",
    "# Right AX\n",
    "sns.boxplot(data=data, x='days_left', ax=ax[1]).set_xticks(np.arange(0, 50, 5))\n",
    "plt.show()"
   ]
  },
  {
   "cell_type": "markdown",
   "id": "7f1a0f3c-0ab0-4a2d-b5b7-c4cecc6c5d6b",
   "metadata": {},
   "source": [
    " - The earlier you book your ticket, the less you will pay(for values greater than 2)"
   ]
  },
  {
   "cell_type": "markdown",
   "id": "6c4af954-e702-475a-b736-2277dd8edb87",
   "metadata": {},
   "source": [
    "### <code>price</code>"
   ]
  },
  {
   "cell_type": "code",
   "execution_count": null,
   "id": "89508ac0-8cf5-42e5-8f59-5fec775b84e2",
   "metadata": {},
   "outputs": [],
   "source": [
    "plt.figure(figsize=(15, 3))\n",
    "sns.boxplot(data=data, x='price')\n",
    "plt.show()"
   ]
  },
  {
   "cell_type": "markdown",
   "id": "e62ffae8-312d-429e-a33d-7c218cb2ce8d",
   "metadata": {},
   "source": [
    "<a id=\"prep\"></a>\n",
    "# <b><p style=\"background-image: url(https://i.postimg.cc/MpTLFhtf/wp9806504-network-desktop-wallpapers.jpg);background-size: cover;font-family:tahoma;font-size:120%;color:white;text-align:center;border-radius:15px 50px; padding:7px; border:solid 2px #09375b; box-shadow: 10px 10px 10px #042b4c\">Step 4 | Preprocessing</p></b>\n",
    "\n",
    "[🏠 Tabel of Contents](#content)"
   ]
  },
  {
   "cell_type": "markdown",
   "id": "c307bfd6-81c0-4cbd-a961-f63de5de6d05",
   "metadata": {},
   "source": [
    "<a id=\"value\"></a>\n",
    "## <b><span style=\"color:navy\">✈️ Step 4.1 | </span><span style=\"color:red\">Value</span></b>"
   ]
  },
  {
   "cell_type": "markdown",
   "id": "66179eb8-3f19-40f4-95bc-67f98d6dd217",
   "metadata": {},
   "source": [
    "##  Replace string values with integer"
   ]
  },
  {
   "cell_type": "code",
   "execution_count": null,
   "id": "d4d03a06-1f58-4ca5-9657-a294238d706d",
   "metadata": {},
   "outputs": [],
   "source": [
    "# col : airline\n",
    "data.airline = data.airline.replace(\n",
    "    {\n",
    "        'Vistara' : 1,\n",
    "        'Air_India' : 2,\n",
    "        'Indigo' : 3,\n",
    "        'GO_FIRST' : 4,\n",
    "        'AirAsia': 5,\n",
    "        'SpiceJet' : 6  \n",
    "    }\n",
    ")"
   ]
  },
  {
   "cell_type": "code",
   "execution_count": null,
   "id": "aaafa4e7-2097-4661-809e-7916d92c7452",
   "metadata": {},
   "outputs": [],
   "source": [
    "# col : source_city\n",
    "data.source_city = data.source_city.replace(\n",
    "    {\n",
    "        'Delhi' : 1,\n",
    "        'Mumbai' : 2,\n",
    "        'Bangalore' : 3,\n",
    "        'Kolkata' : 4,\n",
    "        'Hyderabad'  : 5,\n",
    "        'Chennai' : 6\n",
    "    }\n",
    ")"
   ]
  },
  {
   "cell_type": "code",
   "execution_count": null,
   "id": "827e6bd3-c68f-47c4-8881-8ae86a97186e",
   "metadata": {},
   "outputs": [],
   "source": [
    "# col : departure_time\n",
    "data.departure_time = data.departure_time.replace(\n",
    "    {\n",
    "        'Morning' : 1,\n",
    "        'Early_Morning' : 2, \n",
    "        'Evening' : 3,\n",
    "        'Night' : 4,\n",
    "        'Afternoon' : 5, \n",
    "        'Late_Night' : 6\n",
    "    }\n",
    ")"
   ]
  },
  {
   "cell_type": "code",
   "execution_count": null,
   "id": "4a3166bf-fe8d-439a-b812-bb800be9a482",
   "metadata": {},
   "outputs": [],
   "source": [
    "# col : stops\n",
    "data.stops = data.stops.replace(\n",
    "    {\n",
    "        'one' : 1,\n",
    "        'zero' : 2,\n",
    "        'two_or_more' : 3\n",
    "    }\n",
    ")"
   ]
  },
  {
   "cell_type": "code",
   "execution_count": null,
   "id": "45bc2d96-d412-494c-9a6b-81015f08bdba",
   "metadata": {},
   "outputs": [],
   "source": [
    "# col : arrival_time\n",
    "data.arrival_time = data.arrival_time.replace(\n",
    "    {\n",
    "        'Night' : 1,\n",
    "        'Evening' : 2,\n",
    "        'Morning' : 3,\n",
    "        'Afternoon' : 4,\n",
    "        'Early_Morning' : 5,\n",
    "        'Late_Night' : 6\n",
    "    }\n",
    ")"
   ]
  },
  {
   "cell_type": "code",
   "execution_count": null,
   "id": "0e4fb910-45e5-40bc-befd-bc74acbb6264",
   "metadata": {},
   "outputs": [],
   "source": [
    "# col : destination_city\n",
    "data.destination_city = data.destination_city.replace(\n",
    "    {\n",
    "        'Mumbai' : 1,\n",
    "        'Delhi' : 2,\n",
    "        'Bangalore' : 3,\n",
    "        'Kolkata' : 4,\n",
    "        'Hyderabad' : 5,\n",
    "        'Chennai' : 6\n",
    "    }\n",
    ")"
   ]
  },
  {
   "cell_type": "code",
   "execution_count": null,
   "id": "6de88fae-7250-429f-8051-c9f3fb82f422",
   "metadata": {},
   "outputs": [],
   "source": [
    "# col : flight_class\n",
    "data.flight_class = data.flight_class.replace(\n",
    "    {\n",
    "        'Economy' : 1,\n",
    "        'Business' :2\n",
    "    }\n",
    ")"
   ]
  },
  {
   "cell_type": "code",
   "execution_count": null,
   "id": "f13ed6d5-ffaa-4d02-939a-02370e01ceb2",
   "metadata": {},
   "outputs": [],
   "source": [
    "data.describe()"
   ]
  },
  {
   "cell_type": "markdown",
   "id": "0d37f2d1-2b38-471d-bd5d-be18c3cc987b",
   "metadata": {},
   "source": [
    "<a id=\"corr\"></a>\n",
    "## <b><span style=\"color:navy\">✈️ Step 4.2 | </span><span style=\"color:red\">Correlations</span></b>"
   ]
  },
  {
   "cell_type": "code",
   "execution_count": null,
   "id": "73d68d47-25ae-4292-aa5c-8c693d5a0f0e",
   "metadata": {},
   "outputs": [],
   "source": [
    "corr = data.corr()\n",
    "plt.figure(figsize=(10, 5))\n",
    "sns.heatmap(corr, annot=True, fmt='.2f', linewidths=0.5, linecolor='white', mask=np.triu(corr), cmap='Blues')\n",
    "plt.show()"
   ]
  },
  {
   "cell_type": "markdown",
   "id": "b6e80a1a-29e5-41f5-8471-974a9a52dd71",
   "metadata": {},
   "source": [
    "- <code>Flight classes</code> is most relevant feature to <code>Price</code>."
   ]
  },
  {
   "cell_type": "markdown",
   "id": "8919f899-9bf0-47bd-a19f-a6adf38f8387",
   "metadata": {},
   "source": [
    "<a id=\"xy\"></a>\n",
    "## <b><span style=\"color:navy\">✈️ Step 4.3 | </span><span style=\"color:red\">Define X ,y</span></b>"
   ]
  },
  {
   "cell_type": "code",
   "execution_count": null,
   "id": "d4f3a4bb-2c65-4404-87f8-df99027ff85e",
   "metadata": {},
   "outputs": [],
   "source": [
    "X_temp = data.drop(columns='price')\n",
    "y = data.price"
   ]
  },
  {
   "cell_type": "markdown",
   "id": "658fa832-b15a-4589-8977-8be79b003360",
   "metadata": {},
   "source": [
    "<a id=\"norm\"></a>\n",
    "## <b><span style=\"color:navy\">✈️ Step 4.4 | </span><span style=\"color:red\">Normalization</span></b>"
   ]
  },
  {
   "cell_type": "code",
   "execution_count": null,
   "id": "ff1c0eea-a06c-4121-980f-3448622c8fbe",
   "metadata": {},
   "outputs": [],
   "source": [
    "scaler = MinMaxScaler().fit_transform(X_temp)\n",
    "X = pd.DataFrame(scaler, columns=X_temp.columns)"
   ]
  },
  {
   "cell_type": "code",
   "execution_count": null,
   "id": "ef3bdc5b-85d1-4aaa-8c33-a2467996d208",
   "metadata": {},
   "outputs": [],
   "source": [
    "X.describe().T[['min', 'mean', 'std', '50%', 'max']].style.background_gradient(axis=1)"
   ]
  },
  {
   "cell_type": "code",
   "execution_count": null,
   "id": "9cec3c85-9f3a-478a-bc8d-f1482cea63ea",
   "metadata": {},
   "outputs": [],
   "source": [
    "main_X = X.copy()"
   ]
  },
  {
   "cell_type": "markdown",
   "id": "9c6b5102-5c90-4e30-ae3a-2ddda2c90922",
   "metadata": {},
   "source": [
    "<a id=\"ml\"></a>\n",
    "# <b><p style=\"background-image: url(https://i.postimg.cc/MpTLFhtf/wp9806504-network-desktop-wallpapers.jpg);background-size: cover;font-family:tahoma;font-size:120%;color:white;text-align:center;border-radius:15px 50px; padding:7px; border:solid 2px #09375b; box-shadow: 10px 10px 10px #042b4c\">Step 5 | Modeling</p></b>\n",
    "\n",
    "[🏠 Tabel of Contents](#content)"
   ]
  },
  {
   "cell_type": "markdown",
   "id": "dc429419-7a9c-4591-adea-e6bda440550a",
   "metadata": {},
   "source": [
    "<a id=\"lr\"></a>\n",
    "## <b><span style=\"color:navy\">✈️ Step 5.1 | </span><span style=\"color:red\">LinearRegression</span></b>"
   ]
  },
  {
   "cell_type": "code",
   "execution_count": null,
   "id": "5c93fafe-f751-48b0-ae06-decb9e11c987",
   "metadata": {},
   "outputs": [],
   "source": [
    "# Create a loop to find best test_size\n",
    "test_list = []\n",
    "mse_list = []\n",
    "r2score_list = []\n",
    "best_r2=0\n",
    "best_mse=0\n",
    "best_test=0\n",
    "\n",
    "for tester in range(6, 19) :\n",
    "    tester = round(0.025 * tester, 2)\n",
    "    test_list.append(tester)\n",
    "    #\n",
    "    X_train, X_test, y_train, y_test = train_test_split(X, y, test_size=tester, random_state=0)\n",
    "    #\n",
    "    lr = LinearRegression().fit(X, y)\n",
    "    y_pred_lr = lr.predict(X_test)\n",
    "    r2score = metrics.r2_score(y_test, y_pred_lr)\n",
    "    r2score_list.append(r2score)\n",
    "    mse = metrics.mean_squared_error(y_test, y_pred_lr)\n",
    "    mse_list.append(mse)\n",
    "    #\n",
    "    if r2score>best_r2 :\n",
    "        best_r2 = r2score\n",
    "        best_mse = mse\n",
    "        best_test = tester\n",
    "print(colored('Best test_size : {}'.format(best_test), 'blue'))\n",
    "print(colored('Best R2Score : {}'.format(best_r2), 'blue'))\n",
    "print(colored('Best Mean Squared Error : {}'.format(best_mse), 'blue'))\n",
    "\n",
    "# Plot\n",
    "fig, ax = plt.subplots(1, 2, figsize=(12, 4))\n",
    "ax[0].plot(test_list, r2score_list, c='blue', label='R2Score')\n",
    "ax[0].set_title(\"R2Score\")\n",
    "ax[0].legend()\n",
    "\n",
    "ax[1].plot(test_list, mse_list, c='red', label='Mean Squared Error')\n",
    "ax[1].set_title(\"Mean Squared Error\")\n",
    "ax[1].legend()\n",
    "plt.show()"
   ]
  },
  {
   "cell_type": "markdown",
   "id": "09295f75-dd62-4c08-8b16-dc26d391be6e",
   "metadata": {},
   "source": [
    "<div style=\"font-size:110%; font-weight:500; background-color:#d3def0\">➡️ acc = 89.66%</div>\n",
    "<div style=\"font-size:110%; font-weight:500; background-color:#d3def0\">➡️ Use most relevant feature to target : <code>flight_class</code>  to increase accuracy</div>"
   ]
  },
  {
   "cell_type": "code",
   "execution_count": null,
   "id": "42180ec2-c3be-4b35-9a7e-cd9854d9dac2",
   "metadata": {},
   "outputs": [],
   "source": [
    "for power in range(2, 7) :\n",
    "    new_col_name = 'flight_class^' + str(power)\n",
    "    X[new_col_name] = pow(X.flight_class, power)\n",
    "    #\n",
    "    X_train, X_test, y_train, y_test = train_test_split(X, y, test_size=best_test, random_state=0)\n",
    "    #\n",
    "    lr = LinearRegression().fit(X_train, y_train)\n",
    "    y_pred = lr.predict(X_test)\n",
    "    r2score = metrics.r2_score(y_test, y_pred)\n",
    "    diff = r2score-best_r2\n",
    "    if r2score > best_r2 :\n",
    "        best_r2 = r2score\n",
    "        print(colored('{} improve r2score by {}'.format(new_col_name, diff), 'green'))\n",
    "    else :\n",
    "        X.drop(columns=[new_col_name], inplace=True)\n",
    "        print(colored('{} Not improve r2score'.format(new_col_name), 'red'))\n"
   ]
  },
  {
   "cell_type": "code",
   "execution_count": null,
   "id": "510e2416-548a-4310-ad85-cca1aad94746",
   "metadata": {},
   "outputs": [],
   "source": [
    "columns = X.columns\n",
    "for col in columns :\n",
    "    new_col_name = 'flight_class*' + col\n",
    "    X[new_col_name] = X.flight_class * X[col]\n",
    "    #\n",
    "    X_train, X_test, y_train, y_test = train_test_split(X, y, test_size=best_test, random_state=0)\n",
    "    #\n",
    "    lr = LinearRegression().fit(X_train, y_train)\n",
    "    y_pred = lr.predict(X_test)\n",
    "    r2score = metrics.r2_score(y_test, y_pred)\n",
    "    diff = r2score-best_r2\n",
    "    if (r2score > best_r2) and (diff>=0.001) :\n",
    "        best_r2 = r2score\n",
    "        print(colored('{} improve r2score by {}'.format(new_col_name, diff), 'green'))\n",
    "    else :\n",
    "        X.drop(columns=[new_col_name], inplace=True)\n",
    "        print(colored('{} Not improve r2score'.format(new_col_name), 'red'))\n"
   ]
  },
  {
   "cell_type": "code",
   "execution_count": null,
   "id": "7253b762-73a1-42af-95df-1b5dcc84f9fe",
   "metadata": {},
   "outputs": [],
   "source": [
    "lr_r2 = best_r2\n",
    "print(colored('Liear Legresion R2Score = {}'.format(round(lr_r2, 3)), 'green'))"
   ]
  },
  {
   "cell_type": "markdown",
   "id": "3e3dfcf9-68c7-4fc4-8b3f-46cf01edb4e6",
   "metadata": {},
   "source": [
    "<a id=\"tree\"></a>\n",
    "## <b><span style=\"color:navy\">✈️ Step 5.2 | </span><span style=\"color:red\">DecisionTreeRegressor</span></b>"
   ]
  },
  {
   "cell_type": "code",
   "execution_count": null,
   "id": "7842a7b4-bb17-4cc8-8c0a-e30710c22d5c",
   "metadata": {},
   "outputs": [],
   "source": [
    "parameters = {\n",
    "    'splitter' : ['best', 'random'],\n",
    "    'max_features' : [None, 8, 7, 6, 5],\n",
    "}\n",
    "\n",
    "X_train, X_test, y_train, y_test = train_test_split(main_X, y, test_size=tester, random_state=0)\n",
    "\n",
    "\n",
    "tree = DecisionTreeRegressor()\n",
    "tree_cv = GridSearchCV(estimator=tree, param_grid=parameters, cv=20).fit(X_train, y_train)\n",
    "\n",
    "print(colored('Tuned Hyper Parameters :\\n{}'.format(tree_cv.best_params_), 'blue'))"
   ]
  },
  {
   "cell_type": "code",
   "execution_count": null,
   "id": "88ab4847-0e2e-4024-9579-7ff21cd32fb2",
   "metadata": {},
   "outputs": [],
   "source": [
    "tree = DecisionTreeRegressor(**tree_cv.best_params_).fit(X_train, y_train)\n",
    "y_pred_tree = tree.predict(X_test)\n",
    "tree_r2 = metrics.r2_score(y_test, y_pred_tree)\n",
    "print(colored('DecisionTreeRegressor R2Score = {}'.format(round(tree_r2, 3)), 'green'))"
   ]
  },
  {
   "cell_type": "markdown",
   "id": "45e3f2c9-07b0-4231-a248-1717295e9e69",
   "metadata": {},
   "source": [
    "<a id=\"rf\"></a>\n",
    "## <b><span style=\"color:navy\">✈️ Step 5.3 | </span><span style=\"color:red\">RandomForestRegressor</span></b>"
   ]
  },
  {
   "cell_type": "code",
   "execution_count": null,
   "id": "bacdc3f5-4ab5-44f7-8941-488cf9b66dd4",
   "metadata": {},
   "outputs": [],
   "source": [
    "X_train, X_test, y_train, y_test = train_test_split(main_X, y, test_size=tester, random_state=0)\n",
    "\n",
    "rf = RandomForestRegressor(n_estimators=500, max_features=8, n_jobs=-1).fit(X_train, y_train)\n",
    "y_pred_rf = rf.predict(X_test)\n",
    "rf_r2 = metrics.r2_score(y_test, y_pred_rf)\n",
    "print(colored('RandomForestRegressor R2Score = {}'.format(round(rf_r2, 3)), 'green'))"
   ]
  },
  {
   "cell_type": "markdown",
   "id": "a56be6a4-e0ec-4f57-9499-99f29830f4f4",
   "metadata": {},
   "source": [
    "<a id=\"result\"></a>\n",
    "## <b><span style=\"color:navy\">✈️ Step 4.4 | </span><span style=\"color:red\">Result</span></b>"
   ]
  },
  {
   "cell_type": "code",
   "execution_count": null,
   "id": "cd4f27c3-29c0-414f-b7b1-b32ecfaee813",
   "metadata": {},
   "outputs": [],
   "source": [
    "result = pd.DataFrame({\n",
    "    'Algorithms' : ['LinearRegression', 'DecisionTreeRegressor', 'RandomForestRegressor'],\n",
    "    'R2Scores' : [lr_r2, tree_r2, rf_r2]\n",
    "})\n",
    "plt.figure(figsize=(8, 4))\n",
    "ax = sns.barplot(x='Algorithms', y='R2Scores', data=result, palette='Set1')\n",
    "for container in ax.containers:\n",
    "    ax.bar_label(container)\n",
    "plt.show()"
   ]
  },
  {
   "cell_type": "markdown",
   "id": "42eeff9b-57da-429f-9188-10bd1b7554a8",
   "metadata": {},
   "source": [
    "### <div style=\"font-size:110%; font-weight:500; background-color:#d3def0\">➡️ <code>RandomForestRegressor</code> have maximum R2Score and choose as best model.</div>"
   ]
  },
  {
   "cell_type": "markdown",
   "id": "556b54fc-1dc3-42d8-9f30-9204cdef758c",
   "metadata": {},
   "source": [
    "<a id=\"author\"></a>\n",
    "<div style=\"border:3px solid navy; border-radius:30px; padding: 15px; background-size: cover; font-size:100%; text-align:left; background-image: url(https://i.postimg.cc/sXwGWcwC/download.jpg); background-size: cover\">\n",
    "\n",
    "<h4 align=\"left\"><span style=\"font-weight:700; font-size:150%\"><font color=#d10202>Author:</font><font color=navy> Nima Pourmoradi</font></span></h4>\n",
    "<h6 align=\"left\"><font color=#ff6200><a href='https://github.com/NimaPourmoradi'>github: https://github.com/NimaPourmoradi</font></h6>\n",
    "<h6 align=\"left\"><font color=#ff6200><a href='https://www.kaggle.com/nimapourmoradi'>kaggle : https://www.kaggle.com/nimapourmoradi</a></font></h6>\n",
    "<h6 align=\"left\"><font color=#ff6200><a href='https://www.linkedin.com/in/nima-pourmoradi-081949288/'>linkedin : www.linkedin.com/in/nima-pourmoradi</a></font></h6>\n",
    "<h6 align=\"left\"><font color=#ff6200><a href='https://t.me/Nima_Pourmoradi'>Telegram : https://t.me/Nima_Pourmoradi</a></font></h6>"
   ]
  },
  {
   "cell_type": "markdown",
   "id": "26fce13a-9940-41b7-bf2d-cc462a0959f9",
   "metadata": {},
   "source": [
    "<img src=\"https://i.postimg.cc/t4b3WtCy/1000-F-291522205-Xkrm-S421-Fj-SGTMR.jpg\">"
   ]
  }
 ],
 "metadata": {
  "kernelspec": {
   "display_name": "Python 3 (ipykernel)",
   "language": "python",
   "name": "python3"
  },
  "language_info": {
   "codemirror_mode": {
    "name": "ipython",
    "version": 3
   },
   "file_extension": ".py",
   "mimetype": "text/x-python",
   "name": "python",
   "nbconvert_exporter": "python",
   "pygments_lexer": "ipython3",
   "version": "3.11.7"
  }
 },
 "nbformat": 4,
 "nbformat_minor": 5
}
